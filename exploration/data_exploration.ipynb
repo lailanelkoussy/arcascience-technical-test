{
 "cells": [
  {
   "metadata": {},
   "cell_type": "markdown",
   "source": "# Exploration",
   "id": "ab25625883696ea5"
  },
  {
   "metadata": {},
   "cell_type": "markdown",
   "source": "This jupyter notebook is the first step to technical test. I need to verify what the data looks like (if there are any problematic/outlier entries) before I start coding. This will allow me to make informed decisions about technical choices.",
   "id": "4edc05a50f51b7c"
  },
  {
   "cell_type": "code",
   "id": "initial_id",
   "metadata": {
    "collapsed": true,
    "ExecuteTime": {
     "end_time": "2025-02-02T20:59:24.693088Z",
     "start_time": "2025-02-02T20:59:21.342907Z"
    }
   },
   "source": "import pandas as pd",
   "outputs": [],
   "execution_count": 3
  },
  {
   "metadata": {
    "ExecuteTime": {
     "end_time": "2025-02-02T20:59:24.829372Z",
     "start_time": "2025-02-02T20:59:24.738649Z"
    }
   },
   "cell_type": "code",
   "source": "df = pd.read_csv('../onto_x.csv')",
   "id": "4ff7d828005d8f28",
   "outputs": [],
   "execution_count": 4
  },
  {
   "metadata": {
    "ExecuteTime": {
     "end_time": "2025-02-02T20:59:25.064672Z",
     "start_time": "2025-02-02T20:59:24.968638Z"
    }
   },
   "cell_type": "code",
   "source": "df",
   "id": "ca968706c5b1e4cb",
   "outputs": [
    {
     "data": {
      "text/plain": [
       "                                   Class ID                Preferred Label  \\\n",
       "0             http://entity/CST/HYPOCHLOREM                  HYPOCHLOREMIA   \n",
       "1         http://entity/CST/EXTRAPYR%20SYND        EXTRAPYRAMIDAL SYNDROME   \n",
       "2     http://entity/CST/VASCULITIS%20KIDNEY              KIDNEY VASCULITIS   \n",
       "3               http://entity/CST/SKIN/DERM                     Dermatoses   \n",
       "4          http://entity/CST/FIBRO%20KIDNEY                KIDNEY FIBROSIS   \n",
       "...                                     ...                            ...   \n",
       "1702                 http://entity/STY/T122  Biomedical or Dental Material   \n",
       "1703     http://entity/CST/WITHDRAW%20BLEED            WITHDRAWAL BLEEDING   \n",
       "1704         http://entity/CST/GYNECOMASTIA                   GYNECOMASTIA   \n",
       "1705         http://entity/CST/ENDO/ADR/COR                         Cortex   \n",
       "1706                 http://entity/STY/T197             Inorganic Chemical   \n",
       "\n",
       "                                                Parents  \n",
       "0     http://entity/CST/METGEN|http://entity/CST/MAN...  \n",
       "1                             http://entity/CST/NERMOVE  \n",
       "2     http://entity/CST/PATHCOLLAGEN|http://entity/C...  \n",
       "3                                                   NaN  \n",
       "4     http://entity/CST/UG/UT/K/M|http://entity/CST/...  \n",
       "...                                                 ...  \n",
       "1702                             http://entity/STY/T120  \n",
       "1703  http://entity/CST/HEMHMRG|http://entity/CST/GY...  \n",
       "1704                        http://entity/CST/GENBREAST  \n",
       "1705                         http://entity/CST/ENDO/ADR  \n",
       "1706                             http://entity/STY/T104  \n",
       "\n",
       "[1707 rows x 3 columns]"
      ],
      "text/html": [
       "<div>\n",
       "<style scoped>\n",
       "    .dataframe tbody tr th:only-of-type {\n",
       "        vertical-align: middle;\n",
       "    }\n",
       "\n",
       "    .dataframe tbody tr th {\n",
       "        vertical-align: top;\n",
       "    }\n",
       "\n",
       "    .dataframe thead th {\n",
       "        text-align: right;\n",
       "    }\n",
       "</style>\n",
       "<table border=\"1\" class=\"dataframe\">\n",
       "  <thead>\n",
       "    <tr style=\"text-align: right;\">\n",
       "      <th></th>\n",
       "      <th>Class ID</th>\n",
       "      <th>Preferred Label</th>\n",
       "      <th>Parents</th>\n",
       "    </tr>\n",
       "  </thead>\n",
       "  <tbody>\n",
       "    <tr>\n",
       "      <th>0</th>\n",
       "      <td>http://entity/CST/HYPOCHLOREM</td>\n",
       "      <td>HYPOCHLOREMIA</td>\n",
       "      <td>http://entity/CST/METGEN|http://entity/CST/MAN...</td>\n",
       "    </tr>\n",
       "    <tr>\n",
       "      <th>1</th>\n",
       "      <td>http://entity/CST/EXTRAPYR%20SYND</td>\n",
       "      <td>EXTRAPYRAMIDAL SYNDROME</td>\n",
       "      <td>http://entity/CST/NERMOVE</td>\n",
       "    </tr>\n",
       "    <tr>\n",
       "      <th>2</th>\n",
       "      <td>http://entity/CST/VASCULITIS%20KIDNEY</td>\n",
       "      <td>KIDNEY VASCULITIS</td>\n",
       "      <td>http://entity/CST/PATHCOLLAGEN|http://entity/C...</td>\n",
       "    </tr>\n",
       "    <tr>\n",
       "      <th>3</th>\n",
       "      <td>http://entity/CST/SKIN/DERM</td>\n",
       "      <td>Dermatoses</td>\n",
       "      <td>NaN</td>\n",
       "    </tr>\n",
       "    <tr>\n",
       "      <th>4</th>\n",
       "      <td>http://entity/CST/FIBRO%20KIDNEY</td>\n",
       "      <td>KIDNEY FIBROSIS</td>\n",
       "      <td>http://entity/CST/UG/UT/K/M|http://entity/CST/...</td>\n",
       "    </tr>\n",
       "    <tr>\n",
       "      <th>...</th>\n",
       "      <td>...</td>\n",
       "      <td>...</td>\n",
       "      <td>...</td>\n",
       "    </tr>\n",
       "    <tr>\n",
       "      <th>1702</th>\n",
       "      <td>http://entity/STY/T122</td>\n",
       "      <td>Biomedical or Dental Material</td>\n",
       "      <td>http://entity/STY/T120</td>\n",
       "    </tr>\n",
       "    <tr>\n",
       "      <th>1703</th>\n",
       "      <td>http://entity/CST/WITHDRAW%20BLEED</td>\n",
       "      <td>WITHDRAWAL BLEEDING</td>\n",
       "      <td>http://entity/CST/HEMHMRG|http://entity/CST/GY...</td>\n",
       "    </tr>\n",
       "    <tr>\n",
       "      <th>1704</th>\n",
       "      <td>http://entity/CST/GYNECOMASTIA</td>\n",
       "      <td>GYNECOMASTIA</td>\n",
       "      <td>http://entity/CST/GENBREAST</td>\n",
       "    </tr>\n",
       "    <tr>\n",
       "      <th>1705</th>\n",
       "      <td>http://entity/CST/ENDO/ADR/COR</td>\n",
       "      <td>Cortex</td>\n",
       "      <td>http://entity/CST/ENDO/ADR</td>\n",
       "    </tr>\n",
       "    <tr>\n",
       "      <th>1706</th>\n",
       "      <td>http://entity/STY/T197</td>\n",
       "      <td>Inorganic Chemical</td>\n",
       "      <td>http://entity/STY/T104</td>\n",
       "    </tr>\n",
       "  </tbody>\n",
       "</table>\n",
       "<p>1707 rows × 3 columns</p>\n",
       "</div>"
      ]
     },
     "execution_count": 5,
     "metadata": {},
     "output_type": "execute_result"
    }
   ],
   "execution_count": 5
  },
  {
   "metadata": {
    "ExecuteTime": {
     "end_time": "2025-02-01T15:08:38.470758Z",
     "start_time": "2025-02-01T15:08:38.456346Z"
    }
   },
   "cell_type": "code",
   "source": "df.dtypes",
   "id": "36d5b0577fbd84b3",
   "outputs": [
    {
     "data": {
      "text/plain": [
       "Class ID           object\n",
       "Preferred Label    object\n",
       "Parents            object\n",
       "dtype: object"
      ]
     },
     "execution_count": 9,
     "metadata": {},
     "output_type": "execute_result"
    }
   ],
   "execution_count": 9
  },
  {
   "metadata": {
    "ExecuteTime": {
     "end_time": "2025-02-02T20:59:28.546745Z",
     "start_time": "2025-02-02T20:59:28.508210Z"
    }
   },
   "cell_type": "code",
   "source": "df.shape",
   "id": "dfd70f71103e49f6",
   "outputs": [
    {
     "data": {
      "text/plain": [
       "(1707, 3)"
      ]
     },
     "execution_count": 6,
     "metadata": {},
     "output_type": "execute_result"
    }
   ],
   "execution_count": 6
  },
  {
   "metadata": {},
   "cell_type": "markdown",
   "source": [
    "## First remarks:\n",
    "I notice that the labels are not uniformly all caps or Camel cased, it seems that 'Category' elements are camel cased whereas diseases (leaves or children in a graph) are in all caps."
   ],
   "id": "5dcb46f0acb0e297"
  },
  {
   "metadata": {},
   "cell_type": "markdown",
   "source": [
    "# Checking for outliers\n",
    "\n",
    "## Class ID column\n",
    "Firstly, let us check if any elements have an outlier class id."
   ],
   "id": "d281a38409d7026c"
  },
  {
   "metadata": {
    "ExecuteTime": {
     "end_time": "2025-02-01T15:12:09.813373Z",
     "start_time": "2025-02-01T15:12:09.668583Z"
    }
   },
   "cell_type": "code",
   "source": [
    "pattern = r'\\bhttp:\\/\\/\\S+'\n",
    "df[~df['Class ID'].str.match(pattern, na=False)]"
   ],
   "id": "1203bad535e564a9",
   "outputs": [
    {
     "data": {
      "text/plain": [
       "Empty DataFrame\n",
       "Columns: [Class ID, Preferred Label, Parents]\n",
       "Index: []"
      ],
      "text/html": [
       "<div>\n",
       "<style scoped>\n",
       "    .dataframe tbody tr th:only-of-type {\n",
       "        vertical-align: middle;\n",
       "    }\n",
       "\n",
       "    .dataframe tbody tr th {\n",
       "        vertical-align: top;\n",
       "    }\n",
       "\n",
       "    .dataframe thead th {\n",
       "        text-align: right;\n",
       "    }\n",
       "</style>\n",
       "<table border=\"1\" class=\"dataframe\">\n",
       "  <thead>\n",
       "    <tr style=\"text-align: right;\">\n",
       "      <th></th>\n",
       "      <th>Class ID</th>\n",
       "      <th>Preferred Label</th>\n",
       "      <th>Parents</th>\n",
       "    </tr>\n",
       "  </thead>\n",
       "  <tbody>\n",
       "  </tbody>\n",
       "</table>\n",
       "</div>"
      ]
     },
     "execution_count": 10,
     "metadata": {},
     "output_type": "execute_result"
    }
   ],
   "execution_count": 10
  },
  {
   "metadata": {},
   "cell_type": "markdown",
   "source": "There are no outliers to the class id column.\n",
   "id": "a4bd1eed158dbae2"
  },
  {
   "metadata": {},
   "cell_type": "code",
   "outputs": [],
   "execution_count": null,
   "source": "",
   "id": "acd72de309362206"
  },
  {
   "metadata": {},
   "cell_type": "code",
   "outputs": [],
   "execution_count": null,
   "source": "",
   "id": "62f3bc5f61c50de2"
  },
  {
   "metadata": {
    "ExecuteTime": {
     "end_time": "2025-02-02T21:24:19.535304Z",
     "start_time": "2025-02-02T21:24:19.434164Z"
    }
   },
   "cell_type": "code",
   "source": "df.Parents = df.Parents.astype(str)",
   "id": "4c379ef39463a08e",
   "outputs": [],
   "execution_count": 7
  },
  {
   "metadata": {
    "ExecuteTime": {
     "end_time": "2025-02-02T21:24:30.697368Z",
     "start_time": "2025-02-02T21:24:30.632893Z"
    }
   },
   "cell_type": "code",
   "source": "df.dtypes",
   "id": "3a9a4f2a2524840",
   "outputs": [
    {
     "data": {
      "text/plain": [
       "Class ID           object\n",
       "Preferred Label    object\n",
       "Parents            object\n",
       "dtype: object"
      ]
     },
     "execution_count": 8,
     "metadata": {},
     "output_type": "execute_result"
    }
   ],
   "execution_count": 8
  },
  {
   "metadata": {
    "ExecuteTime": {
     "end_time": "2025-02-02T21:25:01.591489Z",
     "start_time": "2025-02-02T21:25:01.536579Z"
    }
   },
   "cell_type": "code",
   "source": "df.Parents.str.split('|')",
   "id": "9e2190b30f44bbe8",
   "outputs": [
    {
     "data": {
      "text/plain": [
       "0       [http://entity/CST/METGEN, http://entity/CST/M...\n",
       "1                             [http://entity/CST/NERMOVE]\n",
       "2       [http://entity/CST/PATHCOLLAGEN, http://entity...\n",
       "3                                                   [nan]\n",
       "4       [http://entity/CST/UG/UT/K/M, http://entity/CS...\n",
       "                              ...                        \n",
       "1702                             [http://entity/STY/T120]\n",
       "1703    [http://entity/CST/HEMHMRG, http://entity/CST/...\n",
       "1704                        [http://entity/CST/GENBREAST]\n",
       "1705                         [http://entity/CST/ENDO/ADR]\n",
       "1706                             [http://entity/STY/T104]\n",
       "Name: Parents, Length: 1707, dtype: object"
      ]
     },
     "execution_count": 9,
     "metadata": {},
     "output_type": "execute_result"
    }
   ],
   "execution_count": 9
  },
  {
   "metadata": {},
   "cell_type": "code",
   "outputs": [],
   "execution_count": null,
   "source": "",
   "id": "c82f230c85736e4f"
  }
 ],
 "metadata": {
  "kernelspec": {
   "display_name": "Python 3",
   "language": "python",
   "name": "python3"
  },
  "language_info": {
   "codemirror_mode": {
    "name": "ipython",
    "version": 2
   },
   "file_extension": ".py",
   "mimetype": "text/x-python",
   "name": "python",
   "nbconvert_exporter": "python",
   "pygments_lexer": "ipython2",
   "version": "2.7.6"
  }
 },
 "nbformat": 4,
 "nbformat_minor": 5
}
